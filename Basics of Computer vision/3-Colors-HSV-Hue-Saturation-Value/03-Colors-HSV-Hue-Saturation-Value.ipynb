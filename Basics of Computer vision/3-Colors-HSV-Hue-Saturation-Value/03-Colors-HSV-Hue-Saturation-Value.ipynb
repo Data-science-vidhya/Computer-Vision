{
 "cells": [
  {
   "cell_type": "markdown",
   "metadata": {},
   "source": [
    "### Color space is HSV \n",
    "Infact HSV is very useful in color filtering."
   ]
  },
  {
   "cell_type": "code",
   "execution_count": 1,
   "metadata": {},
   "outputs": [
    {
     "data": {
      "text/plain": [
       "<Figure size 1500x1000 with 4 Axes>"
      ]
     },
     "metadata": {},
     "output_type": "display_data"
    }
   ],
   "source": [
    "#H: 0 - 180, S: 0 - 255, V: 0 - 255\n",
    "import cv2\n",
    "import numpy as np\n",
    "from matplotlib import pyplot as plt\n",
    "image = cv2.imread('../.../image 2.jpg')\n",
    "\n",
    "hsv_image = cv2.cvtColor(image, cv2.COLOR_BGR2HSV)\n",
    "\n",
    "\n",
    "row, col = 2, 2\n",
    "fig, axs = plt.subplots(row, col, figsize=(15, 10))\n",
    "fig.tight_layout()\n",
    " \n",
    "axs[0][0].imshow(cv2.cvtColor(hsv_image, cv2.COLOR_BGR2RGB))\n",
    "axs[0][0].set_title('HSV image')\n",
    "\n",
    "axs[0][1].imshow(cv2.cvtColor(hsv_image[:, :, 0], cv2.COLOR_BGR2RGB))\n",
    "axs[0][1].set_title('Hue channel')\n",
    "\n",
    "axs[1][0].imshow(cv2.cvtColor(hsv_image[:, :, 1], cv2.COLOR_BGR2RGB))\n",
    "axs[1][0].set_title('Saturation channel')\n",
    "\n",
    "axs[1][1].imshow(cv2.cvtColor(hsv_image[:, :, 2], cv2.COLOR_BGR2RGB))\n",
    "axs[1][1].set_title('Value channel')\n",
    "\n",
    "plt.show()"
   ]
  },
  {
   "cell_type": "code",
   "execution_count": 2,
   "metadata": {},
   "outputs": [
    {
     "data": {
      "text/plain": [
       "True"
      ]
     },
     "execution_count": 2,
     "metadata": {},
     "output_type": "execute_result"
    }
   ],
   "source": [
    "# Simply use 'imwrite' specificing the file name and the image to be saved\n",
    "cv2.imwrite('hsv_image.jpg', hsv_image)\n",
    "cv2.imwrite('hsv_image.png', hsv_image)"
   ]
  },
  {
   "cell_type": "code",
   "execution_count": 3,
   "metadata": {},
   "outputs": [
    {
     "data": {
      "text/plain": [
       "True"
      ]
     },
     "execution_count": 3,
     "metadata": {},
     "output_type": "execute_result"
    }
   ],
   "source": [
    "# Simply use 'imwrite' specificing the file name and the image to be saved\n",
    "cv2.imwrite('hue_channel.jpg', hsv_image[:, :, 0])\n",
    "cv2.imwrite('hue_channel.png', hsv_image[:, :, 0])"
   ]
  },
  {
   "cell_type": "code",
   "execution_count": 4,
   "metadata": {},
   "outputs": [
    {
     "data": {
      "text/plain": [
       "True"
      ]
     },
     "execution_count": 4,
     "metadata": {},
     "output_type": "execute_result"
    }
   ],
   "source": [
    "# Simply use 'imwrite' specificing the file name and the image to be saved\n",
    "cv2.imwrite('saturation_channel.jpg', hsv_image[:, :, 1])\n",
    "cv2.imwrite('saturation_channel.png', hsv_image[:, :, 1])"
   ]
  },
  {
   "cell_type": "code",
   "execution_count": 5,
   "metadata": {},
   "outputs": [
    {
     "data": {
      "text/plain": [
       "True"
      ]
     },
     "execution_count": 5,
     "metadata": {},
     "output_type": "execute_result"
    }
   ],
   "source": [
    "# Simply use 'imwrite' specificing the file name and the image to be saved\n",
    "cv2.imwrite('value_channel.jpg', hsv_image[:, :, 2])\n",
    "cv2.imwrite('value_channel.png', hsv_image[:, :, 2])"
   ]
  }
 ],
 "metadata": {
  "kernelspec": {
   "display_name": "Python 3",
   "language": "python",
   "name": "python3"
  },
  "language_info": {
   "codemirror_mode": {
    "name": "ipython",
    "version": 3
   },
   "file_extension": ".py",
   "mimetype": "text/x-python",
   "name": "python",
   "nbconvert_exporter": "python",
   "pygments_lexer": "ipython3",
   "version": "3.7.4"
  }
 },
 "nbformat": 4,
 "nbformat_minor": 1
}
